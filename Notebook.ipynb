{
 "cells": [
  {
   "cell_type": "code",
   "execution_count": 15,
   "metadata": {},
   "outputs": [],
   "source": [
    "import numpy as np\n",
    "import subprocess\n",
    "import os\n",
    "import cv2\n",
    "try:\n",
    "    from PIL import Image\n",
    "except ImportError:\n",
    "    import Image\n",
    "import pytesseract\n",
    "\n",
    "# From imutils\n",
    "def resize(image, width = None, height = None, inter = cv2.INTER_AREA):\n",
    "    # initialize the dimensions of the image to be resized and grab the image size\n",
    "    dim = None\n",
    "    (h, w) = image.shape[:2]\n",
    "    # if both the width and height are None, then return the original image\n",
    "    if width is None and height is None:\n",
    "        return image\n",
    "    # check to see if the width is None\n",
    "    if width is None:\n",
    "        # calculate the ratio of the height and construct the dimensions\n",
    "        r = height / float(h)\n",
    "        dim = (int(w * r), height)\n",
    "    # otherwise, the height is None\n",
    "    else:\n",
    "        # calculate the ratio of the width and construct the dimensions\n",
    "        r = width / float(w)\n",
    "        dim = (width, int(h * r))\n",
    "    # resize the image\n",
    "    resized = cv2.resize(image, dim, interpolation = inter)\n",
    "    # return the resized image\n",
    "    return resized\n",
    "\n",
    "#cv2.imshow(\"quest_tracker\", img_rgb)\n",
    "#cv2.waitKey(0)\n",
    "#cv2.destroyAllWindows()"
   ]
  },
  {
   "cell_type": "code",
   "execution_count": 16,
   "metadata": {},
   "outputs": [],
   "source": [
    "img_rgb = cv2.imread('output_00001.jpg', cv2.IMREAD_UNCHANGED)\n",
    "img = cv2.cvtColor(np.asarray(img_rgb), cv2.COLOR_BGR2GRAY)\n",
    "\n",
    "template_rgb = cv2.imread('msq_tracker_2.jpg', cv2.IMREAD_UNCHANGED)\n",
    "template = cv2.Canny(template_rgb, 50, 200)\n",
    "(tH, tW) = template.shape[:2]\n",
    "\n",
    "cv2.imshow(\"Template\", template)\n",
    "cv2.waitKey(0)\n",
    "cv2.destroyAllWindows()"
   ]
  },
  {
   "cell_type": "code",
   "execution_count": 17,
   "metadata": {},
   "outputs": [
    {
     "name": "stdout",
     "output_type": "stream",
     "text": [
      "Coming to Ishgard\n"
     ]
    },
    {
     "data": {
      "text/plain": [
       "-1"
      ]
     },
     "execution_count": 17,
     "metadata": {},
     "output_type": "execute_result"
    }
   ],
   "source": [
    "msq_box = ((tW + 10, 0), (tW + 215, tH))\n",
    "\n",
    "img_hsv = cv2.cvtColor(np.asarray(img_rgb), cv2.COLOR_BGR2HSV)\n",
    "template_hsv = cv2.cvtColor(np.asarray(template_rgb), cv2.COLOR_BGR2HSV)\n",
    "    \n",
    "lower_red = np.array([100,100,100])\n",
    "upper_red = np.array([255,255,255])\n",
    "\n",
    "mask = cv2.inRange(img_hsv, lower_red, upper_red)\n",
    "template_mask = cv2.inRange(template_hsv, lower_red, upper_red)\n",
    "\n",
    "res = cv2.bitwise_and(img_hsv, img_hsv, mask= mask)\n",
    "template_res = cv2.bitwise_and(template_hsv, template_hsv, mask= template_mask)\n",
    "\n",
    "found = None\n",
    "\n",
    "for scale in np.linspace(0.2, 1.0, 20)[::-1]:\n",
    "    resized = resize(res, width = int(res.shape[1] * scale))\n",
    "    r = res.shape[1] / float(resized.shape[1])\n",
    "    # if the resized image is smaller than the template, then break\n",
    "    # from the loop\n",
    "    if resized.shape[0] < tH or resized.shape[1] < tW:\n",
    "        break\n",
    "\n",
    "    result = cv2.matchTemplate(resized, template_res, cv2.TM_CCOEFF)\n",
    "    (_, maxVal, _, maxLoc) = cv2.minMaxLoc(result)\n",
    "\n",
    "    if found is None or maxVal > found[0]:\n",
    "        found = (maxVal, maxLoc, r)\n",
    "        \n",
    "(_, maxLoc, r) = found\n",
    "\n",
    "p1 = np.add((maxLoc[0], maxLoc[1]), msq_box[0])\n",
    "p2 = np.add((maxLoc[0], maxLoc[1]), msq_box[1])\n",
    "p1 = (int(p1[0] * r), int(p1[1] * r))\n",
    "p2 = (int(p2[0] * r), int(p2[1] * r))\n",
    "cropped = img_rgb[p1[1]:p2[1], p1[0]:p2[0]]\n",
    "quest_text = pytesseract.image_to_string(cropped).strip().lstrip().rstrip()\n",
    "print(quest_text)\n",
    "\n",
    "cv2.rectangle(img_rgb, p1, p2, (0, 0, 255), 2)\n",
    "cv2.imshow(\"Image\", img_rgb)\n",
    "cv2.waitKey(0)"
   ]
  },
  {
   "cell_type": "code",
   "execution_count": null,
   "metadata": {},
   "outputs": [],
   "source": [
    "\n"
   ]
  },
  {
   "cell_type": "code",
   "execution_count": null,
   "metadata": {},
   "outputs": [],
   "source": []
  },
  {
   "cell_type": "code",
   "execution_count": null,
   "metadata": {},
   "outputs": [],
   "source": []
  },
  {
   "cell_type": "code",
   "execution_count": null,
   "metadata": {},
   "outputs": [],
   "source": []
  },
  {
   "cell_type": "code",
   "execution_count": null,
   "metadata": {},
   "outputs": [],
   "source": []
  },
  {
   "cell_type": "code",
   "execution_count": null,
   "metadata": {},
   "outputs": [],
   "source": []
  }
 ],
 "metadata": {
  "kernelspec": {
   "display_name": "Python 3",
   "language": "python",
   "name": "python3"
  },
  "language_info": {
   "codemirror_mode": {
    "name": "ipython",
    "version": 3
   },
   "file_extension": ".py",
   "mimetype": "text/x-python",
   "name": "python",
   "nbconvert_exporter": "python",
   "pygments_lexer": "ipython3",
   "version": "3.7.3"
  }
 },
 "nbformat": 4,
 "nbformat_minor": 2
}
