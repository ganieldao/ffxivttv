{
 "cells": [
  {
   "cell_type": "code",
   "execution_count": 21,
   "metadata": {},
   "outputs": [],
   "source": [
    "import numpy as np\n",
    "import subprocess\n",
    "import os\n",
    "import cv2\n",
    "try:\n",
    "    from PIL import Image\n",
    "except ImportError:\n",
    "    import Image\n",
    "import pytesseract\n",
    "\n",
    "class MatchVars:\n",
    "    def __init__(self, template, lower, upper, box):\n",
    "        self.template = template\n",
    "        self.lower = lower\n",
    "        self.upper = upper\n",
    "        self.box = box\n",
    "\n",
    "# From imutils\n",
    "def resize(image, width = None, height = None, inter = cv2.INTER_AREA):\n",
    "    # initialize the dimensions of the image to be resized and grab the image size\n",
    "    dim = None\n",
    "    (h, w) = image.shape[:2]\n",
    "    # if both the width and height are None, then return the original image\n",
    "    if width is None and height is None:\n",
    "        return image\n",
    "    # check to see if the width is None\n",
    "    if width is None:\n",
    "        # calculate the ratio of the height and construct the dimensions\n",
    "        r = height / float(h)\n",
    "        dim = (int(w * r), height)\n",
    "    # otherwise, the height is None\n",
    "    else:\n",
    "        # calculate the ratio of the width and construct the dimensions\n",
    "        r = width / float(w)\n",
    "        dim = (width, int(h * r))\n",
    "    # resize the image\n",
    "    resized = cv2.resize(image, dim, interpolation = inter)\n",
    "    # return the resized image\n",
    "    return resized\n",
    "\n",
    "def isolate_color(img_rgb, lower, upper):\n",
    "    img_hsv = cv2.cvtColor(np.asarray(img_rgb), cv2.COLOR_BGR2HSV)\n",
    "    img_mask = cv2.inRange(img_hsv, lower, upper)\n",
    "    return cv2.bitwise_and(img_hsv, img_hsv, mask=img_mask)\n",
    "\n",
    "\n",
    "# From pyimagesearch.com\n",
    "def multiscale_template_match(img, template):\n",
    "    (tH, tW) = template.shape[:2]\n",
    "\n",
    "    found = None\n",
    "    for scale in np.linspace(0.2, 1.0, 20)[::-1]:\n",
    "        resized = resize(img, width=int(img.shape[1] * scale))\n",
    "        r = img.shape[1] / float(resized.shape[1])\n",
    "\n",
    "        if resized.shape[0] < tH or resized.shape[1] < tW:\n",
    "            break\n",
    "\n",
    "        result = cv2.matchTemplate(resized, template, cv2.TM_SQDIFF_NORMED)\n",
    "        (minVal, maxVal, minLoc, maxLoc) = cv2.minMaxLoc(result)\n",
    "\n",
    "        if found is None or minVal < found[0]:\n",
    "            found = (minVal, minLoc, r)\n",
    "    return found"
   ]
  },
  {
   "cell_type": "code",
   "execution_count": 22,
   "metadata": {},
   "outputs": [],
   "source": [
    "LOWER_RED = np.array([100, 100, 100])\n",
    "UPPER_RED = np.array([255, 255, 255])\n",
    "LOWER_YELLOW = np.array([15, 20, 100])\n",
    "UPPER_YELLOW = np.array([50, 255, 255])\n",
    "\n",
    "MSQ_TRACKER_TEMPLATE = cv2.imread('app/msq_tracker.jpg', cv2.IMREAD_UNCHANGED)\n",
    "MSQ_ICON_TEMPLATE = cv2.imread('app/msq_icon.png', cv2.IMREAD_UNCHANGED)\n",
    "\n",
    "MSQ_TRACKER_MATCH_VARS = MatchVars(MSQ_TRACKER_TEMPLATE, LOWER_RED, UPPER_RED, ((\n",
    "    MSQ_TRACKER_TEMPLATE.shape[0] + 10, 0), (MSQ_TRACKER_TEMPLATE.shape[0] + 215, MSQ_TRACKER_TEMPLATE.shape[1])))\n",
    "MSQ_ICON_MATCH_VARS = MatchVars(MSQ_ICON_TEMPLATE, LOWER_YELLOW, UPPER_YELLOW, (\n",
    "    (-MSQ_ICON_TEMPLATE.shape[0] - 200, 0), (0, MSQ_ICON_TEMPLATE.shape[1])))\n",
    "\n",
    "\n",
    "def get_quest(streamer):\n",
    "    img_rgb = cv2.imread(\"asmongold_00006.jpg\", cv2.IMREAD_UNCHANGED)\n",
    "    quest_text = match(img_rgb, MSQ_TRACKER_MATCH_VARS)\n",
    "    quest_text = match(img_rgb, MSQ_ICON_MATCH_VARS)\n",
    "    \n",
    "def match(img_rgb, match_vars):\n",
    "    print(\"Matching msq tracker icon\", flush=True)\n",
    "    (iH, iW) = img_rgb.shape[:2]\n",
    "\n",
    "    # Isolate red colors in image and template\n",
    "    img_res = isolate_color(img_rgb, match_vars.lower, match_vars.upper)\n",
    "    template_res = isolate_color(\n",
    "        match_vars.template, match_vars.lower, match_vars.upper)\n",
    "\n",
    "    # Multi-scale Template Matching\n",
    "    (minVal, minLoc, r) = multiscale_template_match(img_res, template_res)\n",
    "\n",
    "    # Using coords of msq icon, box the text\n",
    "    p1 = np.add((minLoc[0], minLoc[1]), match_vars.box[0])\n",
    "    p2 = np.add((minLoc[0], minLoc[1]), match_vars.box[1])\n",
    "    p1 = (max(0, int(p1[0] * r)), max(0, int(p1[1] * r)))\n",
    "    p2 = (min(iW - 1, int(p2[0] * r)), min(iH - 1, int(p2[1] * r)))\n",
    "    print(p1, p2, flush=True)\n",
    "\n",
    "    cropped = img_rgb[p1[1]:p2[1], p1[0]:p2[0]]\n",
    "    quest_text = pytesseract.image_to_string(cropped).strip().lstrip().rstrip()\n",
    "    print(\"Text Parsed:[{}]\".format(quest_text), flush=True)\n",
    "\n",
    "    cv2.rectangle(img_rgb, p1, p2, (0, 0, 255), 2)\n",
    "    cv2.imshow(\"Image\", img_rgb)\n",
    "    cv2.waitKey(0)"
   ]
  },
  {
   "cell_type": "code",
   "execution_count": 23,
   "metadata": {},
   "outputs": [
    {
     "name": "stdout",
     "output_type": "stream",
     "text": [
      "Matching msq tracker icon\n",
      "(1021, 972) (1235, 998)\n",
      "Text Parsed:[]\n",
      "Matching msq tracker icon\n",
      "(1560, 547) (1842, 574)\n",
      "Text Parsed:[Mourn in Passing]\n"
     ]
    }
   ],
   "source": [
    "get_quest(\"\")"
   ]
  },
  {
   "cell_type": "code",
   "execution_count": null,
   "metadata": {},
   "outputs": [],
   "source": [
    "\n"
   ]
  },
  {
   "cell_type": "code",
   "execution_count": null,
   "metadata": {},
   "outputs": [],
   "source": []
  },
  {
   "cell_type": "code",
   "execution_count": null,
   "metadata": {},
   "outputs": [],
   "source": []
  },
  {
   "cell_type": "code",
   "execution_count": null,
   "metadata": {},
   "outputs": [],
   "source": []
  },
  {
   "cell_type": "code",
   "execution_count": null,
   "metadata": {},
   "outputs": [],
   "source": []
  },
  {
   "cell_type": "code",
   "execution_count": null,
   "metadata": {},
   "outputs": [],
   "source": []
  }
 ],
 "metadata": {
  "kernelspec": {
   "display_name": "Python 3",
   "language": "python",
   "name": "python3"
  },
  "language_info": {
   "codemirror_mode": {
    "name": "ipython",
    "version": 3
   },
   "file_extension": ".py",
   "mimetype": "text/x-python",
   "name": "python",
   "nbconvert_exporter": "python",
   "pygments_lexer": "ipython3",
   "version": "3.7.3"
  }
 },
 "nbformat": 4,
 "nbformat_minor": 2
}
