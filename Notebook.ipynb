{
 "cells": [
  {
   "cell_type": "code",
   "execution_count": null,
   "metadata": {},
   "outputs": [
    {
     "name": "stdout",
     "output_type": "stream",
     "text": [
      "getting stream-url\n",
      "https://video-weaver.jfk04.hls.ttvnw.net/v1/playlist/CokETWXINpu17UYLyUMvtHh5U4pSNVJgnmnOBALcJwcmcTDv0cVSr1-x9yQb65NT3K6brmJE4nA-6doxbi5jjWslZKzYz1HE9iEVVprNHfSqNgjWbm_W6JNjj98vdkZ97DXZsdAfwQlwNXdT8FOHXsOH2hZHLLmaq9c3Jta8TIND96zrz_JAtfAQX0K11NxFC6jPAFtCZudlsp9gkrnOEmDkXvlsXK6sGfJmSGWhQLZd6o17W9vUBn_9VLqZhFISN08avfnfEmzqFci-ImCs4xiSdV2K0lTQBRTdziNtXGT0Y5OU2q3qHBlRQW297dO3WidnTjGibdXgRMSFcDP_oWbntTjuKFTuF2NZ-kZbTksBtUfMhEnhAeW3LthuiOO30cEckbg-HGw6AhTYgAC2nW2uk2lQIOiOXVPqpqTgk5QIywiy-RMtNmZ4KtXMp5nP7YrkQvEmQUnCBlA17mq2rypgKC59EBlXC5ZJKrgWntg5SYeEg4N-f7zJGWxd7neDMuBuqHB1ZebITYspA7gvDYlEjaRJc28LQFyzziF-F-sJlufHZx76rn54OYhT6YKCjs5HpjJd_nluP_dSOoaPa0lxmuA97RaUlN1joT5ZSZIza8c22B_JUMiwngyhBfmZ9Njm0kLGCYe598vkl-ShuBlnWRNilc-udWdwBIHu5pDnWMUV70199z-KeycSEAytR9QfN-eRBPywg5lr2oAaDL9UdyWndX779t9xBg.m3u8\n"
     ]
    }
   ],
   "source": [
    "import numpy as np\n",
    "import subprocess\n",
    "import os\n",
    "import cv2\n",
    "try:\n",
    "    from PIL import Image\n",
    "except ImportError:\n",
    "    import Image\n",
    "import pytesseract\n",
    " \n",
    "def hello_whale():\n",
    "    print(\"getting stream-url\")\n",
    "    m3u8 = subprocess.getoutput(\"streamlink twitch.tv/scarra best --stream-url\")\n",
    "    print(m3u8)\n",
    "    os.system('ffmpeg -i \"{}\" -vframes 1 -f image2 output_%05d.jpg'.format(m3u8))\n",
    "    img_rgb = cv2.imread('output_00001.jpg', cv2.IMREAD_UNCHANGED)\n",
    "    match_msq_tracker(img_rgb)\n",
    "    match_quest_tracker(img_rgb)\n",
    "    \n",
    "    \n",
    "def match_msq_tracker(img_rgb):\n",
    "    print(\"Matching msq tracker\")\n",
    "    img = cv2.cvtColor(np.asarray(img_rgb), cv2.COLOR_BGR2GRAY)\n",
    "    template = cv2.imread('msq_box.jpg', 0)\n",
    "    w, h = template.shape[::-1]\n",
    "    \n",
    "    res = cv2.matchTemplate(img, template, cv2.TM_CCOEFF_NORMED)\n",
    "    threshold = 0.8\n",
    "    \n",
    "    loc = np.where( res >= threshold)\n",
    "    res = list(zip(*loc[::-1]))\n",
    "    \n",
    "    print(len(res), \"results\")\n",
    "    for pt in zip(*loc[::-1]):\n",
    "        y1 = max(pt[1], 0)\n",
    "        y2 = min(pt[1] + h, img.shape[::-1][1])\n",
    "        x1 = max(pt[0], 0)\n",
    "        x2 = min(pt[0] + w, img.shape[::-1][0])\n",
    "        \n",
    "        cv2.rectangle(img_rgb, (x1, y1), (x2, y2), (0,0,255), 2)\n",
    "        cropped = img[y1:y2, x1:x2]\n",
    "        quest_text = pytesseract.image_to_string(cropped).strip().lstrip().rstrip()\n",
    "        print(quest_text)\n",
    "        \n",
    "    cv2.imshow(\"quest_tracker\", img_rgb)\n",
    "    cv2.waitKey(0)\n",
    "    cv2.destroyAllWindows()\n",
    "    \n",
    "    \n",
    "def match_quest_tracker(img_rgb):\n",
    "    print(\"Matching quest tracker\")\n",
    "    img = cv2.cvtColor(np.asarray(img_rgb), cv2.COLOR_BGR2GRAY)\n",
    "    template = cv2.imread('msq_icon.png', 0)\n",
    "    w, h = template.shape[::-1]\n",
    "    \n",
    "    res = cv2.matchTemplate(img, template, cv2.TM_CCOEFF_NORMED)\n",
    "    threshold = 0.8\n",
    "    \n",
    "    loc = np.where( res >= threshold)\n",
    "    res = list(zip(*loc[::-1]))\n",
    "    \n",
    "    print(len(res), \"results\")\n",
    "    for pt in zip(*loc[::-1]):\n",
    "        y1 = max(pt[1], 0)\n",
    "        y2 = min(pt[1] + h, img.shape[::-1][1])\n",
    "        x1 = max(pt[0] - 350, 0)\n",
    "        x2 = min(pt[0] + int(w/8), img.shape[::-1][0])\n",
    "        \n",
    "        cv2.rectangle(img_rgb, (x1, y1), (x2, y2), (0,0,255), 2)\n",
    "        cropped = img[y1:y2, x1:x2]\n",
    "        quest_text = pytesseract.image_to_string(cropped).strip().lstrip().rstrip()\n",
    "        print(quest_text)\n",
    "        \n",
    "    cv2.imshow(\"quest_tracker\", img_rgb)\n",
    "    cv2.waitKey(0)\n",
    "    cv2.destroyAllWindows()\n",
    "\n",
    "    \n",
    " \n",
    "\n",
    "hello_whale()"
   ]
  },
  {
   "cell_type": "code",
   "execution_count": null,
   "metadata": {},
   "outputs": [],
   "source": []
  },
  {
   "cell_type": "code",
   "execution_count": null,
   "metadata": {},
   "outputs": [],
   "source": []
  },
  {
   "cell_type": "code",
   "execution_count": null,
   "metadata": {},
   "outputs": [],
   "source": []
  },
  {
   "cell_type": "code",
   "execution_count": null,
   "metadata": {},
   "outputs": [],
   "source": []
  },
  {
   "cell_type": "code",
   "execution_count": null,
   "metadata": {},
   "outputs": [],
   "source": []
  },
  {
   "cell_type": "code",
   "execution_count": null,
   "metadata": {},
   "outputs": [],
   "source": []
  },
  {
   "cell_type": "code",
   "execution_count": null,
   "metadata": {},
   "outputs": [],
   "source": []
  },
  {
   "cell_type": "code",
   "execution_count": null,
   "metadata": {},
   "outputs": [],
   "source": []
  }
 ],
 "metadata": {
  "kernelspec": {
   "display_name": "Python 3",
   "language": "python",
   "name": "python3"
  },
  "language_info": {
   "codemirror_mode": {
    "name": "ipython",
    "version": 3
   },
   "file_extension": ".py",
   "mimetype": "text/x-python",
   "name": "python",
   "nbconvert_exporter": "python",
   "pygments_lexer": "ipython3",
   "version": "3.7.3"
  }
 },
 "nbformat": 4,
 "nbformat_minor": 2
}
